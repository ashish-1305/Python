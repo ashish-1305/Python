{
 "cells": [
  {
   "cell_type": "code",
   "execution_count": 11,
   "metadata": {},
   "outputs": [],
   "source": [
    "class account():\n",
    "    def __init__(self,ownerName,Balance):\n",
    "        self.ownerName = ownerName\n",
    "        self.Balance = 0\n",
    "    def deposit(self):\n",
    "        amount = int(input(\"ënter the amount deposited:\"))\n",
    "        self.Balance += amount\n",
    "        print(\"the new balance:\",self.Balance)\n",
    "    def withdraw(self):\n",
    "        amount = int(input(\"Ënter the amount to be withdrawn:\"))\n",
    "        if(amount>self.Balance):\n",
    "            print(\"Ïnsufficient Balance\")\n",
    "        else:\n",
    "            self.Balance -= amount\n",
    "        print(\"Your remaining balance is :\",self.Balance)\n",
    "        "
   ]
  },
  {
   "cell_type": "code",
   "execution_count": 12,
   "metadata": {},
   "outputs": [],
   "source": [
    "acc = account(\"Ashish\",0)"
   ]
  },
  {
   "cell_type": "code",
   "execution_count": 13,
   "metadata": {},
   "outputs": [
    {
     "name": "stdout",
     "output_type": "stream",
     "text": [
      "ënter the amount deposited:1000\n",
      "the new balance: 1000\n"
     ]
    }
   ],
   "source": [
    "acc.deposit()"
   ]
  },
  {
   "cell_type": "code",
   "execution_count": 14,
   "metadata": {},
   "outputs": [
    {
     "name": "stdout",
     "output_type": "stream",
     "text": [
      "Ënter the amount to be withdrawn:600\n",
      "Your remaining balance is : 400\n"
     ]
    }
   ],
   "source": [
    "acc.withdraw()"
   ]
  },
  {
   "cell_type": "code",
   "execution_count": null,
   "metadata": {},
   "outputs": [],
   "source": []
  }
 ],
 "metadata": {
  "kernelspec": {
   "display_name": "Python 3",
   "language": "python",
   "name": "python3"
  },
  "language_info": {
   "codemirror_mode": {
    "name": "ipython",
    "version": 3
   },
   "file_extension": ".py",
   "mimetype": "text/x-python",
   "name": "python",
   "nbconvert_exporter": "python",
   "pygments_lexer": "ipython3",
   "version": "3.7.6"
  }
 },
 "nbformat": 4,
 "nbformat_minor": 4
}
