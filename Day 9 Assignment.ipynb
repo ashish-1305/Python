{
 "cells": [
  {
   "cell_type": "code",
   "execution_count": 3,
   "metadata": {},
   "outputs": [
    {
     "name": "stdout",
     "output_type": "stream",
     "text": [
      "Overwriting prime_number\n"
     ]
    }
   ],
   "source": [
    "%%writefile prime_number\n",
    "'''\n",
    "to check prime number\n",
    "'''\n",
    "def prime(num_n):\n",
    "    '''\n",
    "    function to check prime\n",
    "    '''\n",
    "    if num_n == 1:\n",
    "        return False\n",
    "    for i in range(2, num_n):\n",
    "        if num_n%i == 0:\n",
    "            return False\n",
    "        return True"
   ]
  },
  {
   "cell_type": "code",
   "execution_count": 4,
   "metadata": {},
   "outputs": [
    {
     "name": "stdout",
     "output_type": "stream",
     "text": [
      "\n",
      "-------------------------------------------------------------------\n",
      "\n",
      "Your code has been rated at 10.00/10 (previous run: 5.71/10, +4.29)\n",
      "\n",
      "\n",
      "\n"
     ]
    }
   ],
   "source": [
    "!pylint \"prime_number\""
   ]
  },
  {
   "cell_type": "code",
   "execution_count": 5,
   "metadata": {},
   "outputs": [
    {
     "name": "stdout",
     "output_type": "stream",
     "text": [
      "ENter the interval(start and end):\n",
      "1\n",
      "1000\n",
      "1\n",
      "153\n",
      "370\n",
      "371\n",
      "407\n"
     ]
    }
   ],
   "source": [
    "print(\"ENter the interval(start and end):\")\n",
    "start = input()\n",
    "if start == 'x':\n",
    "    exit()\n",
    "else:\n",
    "    end=input()\n",
    "    lower = int(start)\n",
    "    upper = int(end)\n",
    "    for num in range(lower, upper+1):\n",
    "        tot=0\n",
    "        temp=num\n",
    "        while temp!=0:\n",
    "            dig = temp % 10\n",
    "            tot += dig ** 3\n",
    "            temp //= 10\n",
    "        if num == tot:\n",
    "            print(num)"
   ]
  },
  {
   "cell_type": "code",
   "execution_count": null,
   "metadata": {},
   "outputs": [],
   "source": []
  }
 ],
 "metadata": {
  "kernelspec": {
   "display_name": "Python 3",
   "language": "python",
   "name": "python3"
  },
  "language_info": {
   "codemirror_mode": {
    "name": "ipython",
    "version": 3
   },
   "file_extension": ".py",
   "mimetype": "text/x-python",
   "name": "python",
   "nbconvert_exporter": "python",
   "pygments_lexer": "ipython3",
   "version": "3.7.6"
  }
 },
 "nbformat": 4,
 "nbformat_minor": 4
}
